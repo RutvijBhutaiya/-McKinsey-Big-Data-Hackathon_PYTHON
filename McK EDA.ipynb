{
 "cells": [
  {
   "cell_type": "markdown",
   "id": "8b5caf66",
   "metadata": {},
   "source": [
    "Load the data"
   ]
  },
  {
   "cell_type": "code",
   "execution_count": null,
   "id": "6b03a697",
   "metadata": {},
   "outputs": [],
   "source": [
    "import pandas as pd\n",
    "import numpy as np\n",
    "\n",
    "from matplotlib import pyplot as plt\n",
    "import seaborn as snn"
   ]
  },
  {
   "cell_type": "code",
   "execution_count": null,
   "id": "dd394f2b",
   "metadata": {},
   "outputs": [],
   "source": [
    "mck = pd.read_csv('CAX_McK.csv')"
   ]
  },
  {
   "cell_type": "code",
   "execution_count": null,
   "id": "7a91f036",
   "metadata": {},
   "outputs": [],
   "source": [
    "mck.head()"
   ]
  },
  {
   "cell_type": "code",
   "execution_count": null,
   "id": "d8179943",
   "metadata": {},
   "outputs": [],
   "source": [
    "# Summary of the data\n",
    "\n",
    "mck.info()"
   ]
  },
  {
   "cell_type": "code",
   "execution_count": null,
   "id": "f42bbc74",
   "metadata": {
    "scrolled": true
   },
   "outputs": [],
   "source": [
    "mck.describe()"
   ]
  },
  {
   "cell_type": "code",
   "execution_count": null,
   "id": "924188cb",
   "metadata": {},
   "outputs": [],
   "source": [
    "# Find the Nas in the dataset\n",
    "\n",
    "mck.isna().any()\n",
    "mck.isna().sum()"
   ]
  },
  {
   "cell_type": "code",
   "execution_count": null,
   "id": "1e525ea0",
   "metadata": {},
   "outputs": [],
   "source": [
    "# Create New variable duration_speed = distance_km / duration_min\n",
    "\n",
    "# mck.assign(duration_speed = mck.distance_km / mck.duration_min)\n",
    "\n",
    "\n",
    "# mck[\"duration_speed\"] = mck[\"distance_km\"] / mck[\"duration_min\"]"
   ]
  },
  {
   "cell_type": "code",
   "execution_count": null,
   "id": "2ab0dfc6",
   "metadata": {},
   "outputs": [],
   "source": [
    "# Check the coloumns in dataframe\n",
    "\n",
    "print(mck.columns)"
   ]
  },
  {
   "cell_type": "markdown",
   "id": "11299925",
   "metadata": {},
   "source": [
    "Analysis on driver_response variable which is target variable"
   ]
  },
  {
   "cell_type": "code",
   "execution_count": null,
   "id": "3d601204",
   "metadata": {},
   "outputs": [],
   "source": [
    "# % response of the driver 1 mean accept &  0 mean decline\n",
    "\n",
    "mck['driver_response'].value_counts(normalize=True) * 100"
   ]
  },
  {
   "cell_type": "code",
   "execution_count": null,
   "id": "97742cc9",
   "metadata": {},
   "outputs": [],
   "source": [
    "# % of driver response based on unique driver code in decending order\n",
    "\n",
    "# Create 'Sub-groups' for driver accept offer and driver reject the offer\n",
    "\n",
    "driver_accept = mck[mck[\"driver_response\"] == 1]\n",
    "\n",
    "driver_reject = mck[mck[\"driver_response\"] == 0]"
   ]
  },
  {
   "cell_type": "code",
   "execution_count": null,
   "id": "5d18a685",
   "metadata": {},
   "outputs": [],
   "source": [
    "# Here not very clear..  which driver is accepting more and vis-versa\n",
    "\n",
    "mck.groupby('driver_gk')['driver_response'].value_counts()[1:20]"
   ]
  },
  {
   "cell_type": "code",
   "execution_count": null,
   "id": "76d7625b",
   "metadata": {},
   "outputs": [],
   "source": [
    "# Find the top 10 drivers who are acception the rides\n",
    "\n",
    "driver_accept['driver_gk'].value_counts()[1:10]"
   ]
  },
  {
   "cell_type": "code",
   "execution_count": null,
   "id": "fe16e5d4",
   "metadata": {},
   "outputs": [],
   "source": [
    "# Find the top 10 drivers who rejects the rides\n",
    "\n",
    "driver_reject['driver_gk'].value_counts()[1:10]"
   ]
  },
  {
   "cell_type": "code",
   "execution_count": null,
   "id": "86dbefd0",
   "metadata": {},
   "outputs": [],
   "source": [
    "# Week Days wise, Driver Response rate.. Very low variation in weekdays. But, yes Wedensay has highest acceptance rate. \n",
    "\n",
    "mck.groupby('weekday_key')['driver_response'].value_counts(normalize = True) * 100"
   ]
  },
  {
   "cell_type": "markdown",
   "id": "209160d8",
   "metadata": {},
   "source": [
    "Outlier Study "
   ]
  },
  {
   "cell_type": "code",
   "execution_count": null,
   "id": "88c87c02",
   "metadata": {},
   "outputs": [],
   "source": [
    "mck[['distance_km', 'duration_min']].describe()"
   ]
  },
  {
   "cell_type": "code",
   "execution_count": null,
   "id": "ea44d44c",
   "metadata": {
    "scrolled": true
   },
   "outputs": [],
   "source": [
    "# Box Plot to identify the outliers \n",
    "\n",
    "plt.subplot(2,1,2)\n",
    "snn.boxplot(y = 'distance_km',  x = 'driver_response', data = mck)\n",
    "plt.title('Distance in Km')\n",
    "plt.show()\n",
    "\n",
    "plt.subplot(2,1,2)\n",
    "snn.boxplot(y = 'duration_min', x = 'driver_response', data = mck)\n",
    "plt.title('Duration Time in Min')\n",
    "plt.show()\n"
   ]
  },
  {
   "cell_type": "markdown",
   "id": "18fac2f4",
   "metadata": {},
   "source": [
    " Remove the Outliers with Percentile method"
   ]
  },
  {
   "cell_type": "code",
   "execution_count": null,
   "id": "74383dcf",
   "metadata": {},
   "outputs": [],
   "source": [
    "# Also remove the -1 from variables like especially from latitude and longitude\n",
    "\n",
    "mck = mck[ (mck['driver_latitude'] > 0) & \n",
    "          (mck['driver_longitude'] > 0) &\n",
    "          (mck['origin_order_latitude'] > 0) & \n",
    "          (mck['origin_order_longitude'] > 0) &\n",
    "          (mck['distance_km'] > 0) &\n",
    "          (mck['duration_min'] > 0) ] "
   ]
  },
  {
   "cell_type": "code",
   "execution_count": null,
   "id": "70c43e47",
   "metadata": {
    "scrolled": true
   },
   "outputs": [],
   "source": [
    "\n",
    "plt.figure(figsize = (8,7))\n",
    "plt.subplot(2,1,2)\n",
    "snn.boxplot(y = 'distance_km', data = mck)\n",
    "plt.show()\n",
    "\n",
    "\n",
    "plt.figure(figsize = (10,7))\n",
    "plt.subplot(2,1,2)\n",
    "snn.boxplot(y = 'duration_min', x = 'driver_response', data = mck)\n",
    "plt.show() \n",
    "\n",
    "## Still many outliers recides in these variables "
   ]
  },
  {
   "cell_type": "code",
   "execution_count": null,
   "id": "4682b39c",
   "metadata": {},
   "outputs": [],
   "source": [
    "# Check the Summary\n",
    "\n",
    "mck[['driver_latitude', 'driver_longitude', 'origin_order_latitude', 'origin_order_longitude', \n",
    "    'distance_km', 'duration_min']].describe()"
   ]
  },
  {
   "cell_type": "code",
   "execution_count": null,
   "id": "5cc4d18a",
   "metadata": {
    "scrolled": true
   },
   "outputs": [],
   "source": [
    "# Outlier baed on Percentile method\n",
    "\n",
    "np.quantile(mck['distance_km'], 0.99)"
   ]
  },
  {
   "cell_type": "code",
   "execution_count": null,
   "id": "4a8f9674",
   "metadata": {},
   "outputs": [],
   "source": [
    "np.quantile(mck['duration_min'], 0.99)"
   ]
  },
  {
   "cell_type": "code",
   "execution_count": null,
   "id": "59594621",
   "metadata": {},
   "outputs": [],
   "source": [
    "# NOTE:  # Sharp rise in km and min [both], at percentile change from 0.99 to 0.99. hence, decided to take 0.998 "
   ]
  },
  {
   "cell_type": "code",
   "execution_count": null,
   "id": "b1221336",
   "metadata": {},
   "outputs": [],
   "source": [
    "mck = mck[ (mck['distance_km'] <= 72.87) & (mck['duration_min'] <= 72.63) ]"
   ]
  },
  {
   "cell_type": "markdown",
   "id": "364bfb38",
   "metadata": {},
   "source": [
    "Add New Varianle - speeed"
   ]
  },
  {
   "cell_type": "code",
   "execution_count": null,
   "id": "67a8a8cb",
   "metadata": {},
   "outputs": [],
   "source": [
    "# mck[\"duration_speed\"] = mck[\"distance_km\"] / mck[\"duration_min\"]\n",
    "\n",
    "# We decided not to add.. as it could create Multicolinarity.  "
   ]
  },
  {
   "cell_type": "markdown",
   "id": "2b0c1a4f",
   "metadata": {},
   "source": [
    "Correlation study"
   ]
  },
  {
   "cell_type": "code",
   "execution_count": null,
   "id": "767e6b9d",
   "metadata": {},
   "outputs": [],
   "source": [
    "mck.corr()"
   ]
  },
  {
   "cell_type": "code",
   "execution_count": null,
   "id": "a0925359",
   "metadata": {
    "scrolled": true
   },
   "outputs": [],
   "source": [
    "# Correlation heatmap  \n",
    "\n",
    "plt.figure(figsize=(15,5))\n",
    "\n",
    "# Use 'mask' to hide duplicate boxes\n",
    "\n",
    "Mask = np.triu(np.ones_like(mck.corr(), dtype = np.bool)) \n",
    "\n",
    "heatmap = snn.heatmap(mck.corr(), vmin = -1, vmax = 1,\n",
    "           annot = True, cmap='YlGn', mask = Mask)\n",
    "\n",
    "\n",
    "# Set Title\n",
    "heatmap.set_title('Correlation heatmap', fontdict = {'fontsize':15}, pad=10);\n",
    "\n",
    "plt.show()"
   ]
  },
  {
   "cell_type": "code",
   "execution_count": null,
   "id": "dbf27d9d",
   "metadata": {},
   "outputs": [],
   "source": []
  },
  {
   "cell_type": "code",
   "execution_count": null,
   "id": "35037b5f",
   "metadata": {},
   "outputs": [],
   "source": [
    "# NOTE: DO not directly remove the higl corr variables.. like origh and driver lattitude.. this means \n",
    "# If drive and orighn lattitude is high .. chances that driver will reject offer..  \n",
    "\n",
    "# Can we play and create new features based on drivet (lat, long) and origin (lat, long)"
   ]
  },
  {
   "cell_type": "code",
   "execution_count": null,
   "id": "32c0d0b6",
   "metadata": {},
   "outputs": [],
   "source": [
    "# Feature Creation :: Haversine Distance Between \n",
    "\n",
    "# driver_latitude & driver_longitude = driver_point\n",
    "\n",
    "# origin_order_latitude & origin_order_longitude = origin_point\n",
    "\n",
    "\n",
    "driver_latitude, driver_longitude, origin_order_latitude, origin_order_longitude = map(np.radians, (mck['driver_latitude'], mck['driver_longitude'], mck['origin_order_latitude'], mck['origin_order_longitude']))\n",
    "    \n",
    "AVG_EARTH_RADIUS = 6371  # in km\n",
    "    \n",
    "lat = origin_order_latitude - driver_latitude\n",
    "lng = origin_order_longitude - driver_longitude\n",
    "\n",
    "d = np.sin(lat * 0.5) ** 2 + np.cos(driver_latitude) * np.cos(origin_order_latitude) * np.sin(lng * 0.5) ** 2\n",
    "mck['driver_origin_dist'] = 2 * AVG_EARTH_RADIUS * np.arcsin(np.sqrt(d))"
   ]
  },
  {
   "cell_type": "code",
   "execution_count": null,
   "id": "82eb1b7e",
   "metadata": {
    "scrolled": false
   },
   "outputs": [],
   "source": [
    "# Check Outliers into New Feature : driver_origin_dist\n",
    "\n",
    "snn.boxplot(y = 'driver_origin_dist', x = 'driver_response', data = mck)\n",
    "plt.show() "
   ]
  },
  {
   "cell_type": "code",
   "execution_count": null,
   "id": "5c111700",
   "metadata": {},
   "outputs": [],
   "source": [
    "permax = np.quantile(mck['driver_origin_dist'], 0.999)\n",
    "permin = np.quantile(mck['driver_origin_dist'], 0.01)\n",
    "\n",
    "\n",
    "print(\"99.9% percentile Area covers :: \", permax)\n",
    "print(\"0.01% percentile Area covers :: \", permin)\n",
    "\n"
   ]
  },
  {
   "cell_type": "code",
   "execution_count": null,
   "id": "81c54160",
   "metadata": {},
   "outputs": [],
   "source": [
    "# Indicated that 99.9% data is under 6.15 km. And hence decided to trim driver_origin_dist\n",
    "\n",
    "mck = mck[ (mck['driver_origin_dist'] <= 6.1547) & \n",
    "          (mck['driver_origin_dist'] >= 0.01061710)]"
   ]
  },
  {
   "cell_type": "code",
   "execution_count": null,
   "id": "bfddbb29",
   "metadata": {},
   "outputs": [],
   "source": []
  },
  {
   "cell_type": "code",
   "execution_count": null,
   "id": "c4a6bb89",
   "metadata": {
    "scrolled": true
   },
   "outputs": [],
   "source": [
    "# ONly correlation of driver_response with all other variables\n",
    "\n",
    "heatmap = snn.heatmap(mck.corr()[['driver_response']], vmin = -1, vmax = 1, annot = True, cmap='BrBG')\n",
    "\n",
    "# As we can see first 5 featurs has very low corr.. However, those are Discrete variables. "
   ]
  },
  {
   "cell_type": "code",
   "execution_count": null,
   "id": "de6a4fb7",
   "metadata": {
    "scrolled": true
   },
   "outputs": [],
   "source": [
    "mck.head()"
   ]
  },
  {
   "cell_type": "code",
   "execution_count": null,
   "id": "19227f6b",
   "metadata": {
    "scrolled": true
   },
   "outputs": [],
   "source": [
    "# In driver_gk and order_gk .. We can see significant diffrence between Driver Responce, But offer_gk is neutral for 0 and 1. \n",
    "\n",
    "mck.groupby('driver_response')['driver_gk'].value_counts(normalize = True) * 100"
   ]
  },
  {
   "cell_type": "markdown",
   "id": "e05f6141",
   "metadata": {},
   "source": [
    "Statistica Test for Significance Test"
   ]
  },
  {
   "cell_type": "code",
   "execution_count": null,
   "id": "7a71df2b",
   "metadata": {},
   "outputs": [],
   "source": [
    "# Apply Chi Square Test and chek the Significant level\n",
    "\n",
    "from scipy.stats import chi2_contingency"
   ]
  },
  {
   "cell_type": "code",
   "execution_count": null,
   "id": "99558e76",
   "metadata": {},
   "outputs": [],
   "source": [
    "# Forst convert Int to str\n",
    "\n",
    "chi1 = mck[['driver_response', 'driver_gk']].astype(str)    # 6823 unique out of 628306 And hence significant, with highest frequency of 2333\n",
    "\n",
    "chi2 = mck[['driver_response', 'order_gk']].astype(str)     # 501742 unique out of 628306 And hence not very significant, with less frequency of 27\n",
    "\n",
    "chi3 = mck[['driver_response', 'offer_gk']].astype(str)     # All Unique and hence not significant, with least frequency of 1"
   ]
  },
  {
   "cell_type": "code",
   "execution_count": null,
   "id": "e581f6c0",
   "metadata": {
    "scrolled": true
   },
   "outputs": [],
   "source": [
    "chi1.describe()"
   ]
  },
  {
   "cell_type": "code",
   "execution_count": null,
   "id": "cd5b29c2",
   "metadata": {},
   "outputs": [],
   "source": [
    "mck.groupby('driver_gk')['driver_response'].value_counts(normalize = True) * 100\n",
    "\n",
    "# 6821 driver_gk has 100% score in accept thr ride.. so we can say when request goes to 6821.. request will be accepted!"
   ]
  },
  {
   "cell_type": "markdown",
   "id": "5726a75f",
   "metadata": {},
   "source": [
    "Statistical Test for variables"
   ]
  },
  {
   "cell_type": "code",
   "execution_count": null,
   "id": "16eea7eb",
   "metadata": {},
   "outputs": [],
   "source": [
    "# T-test for Continious variables with respect to driver_responce\n",
    "# significant threashold level set at 95% \n",
    "\n",
    "from scipy import stats\n",
    "\n",
    "import researchpy as rp"
   ]
  },
  {
   "cell_type": "code",
   "execution_count": null,
   "id": "8c859516",
   "metadata": {},
   "outputs": [],
   "source": [
    "rp.ttest(mck['distance_km'], mck['driver_response'], paired=True)"
   ]
  },
  {
   "cell_type": "code",
   "execution_count": null,
   "id": "e298ae77",
   "metadata": {},
   "outputs": [],
   "source": [
    "dec, rec = rp.ttest(mck['distance_km'], mck['driver_response'], paired=True)"
   ]
  },
  {
   "cell_type": "code",
   "execution_count": null,
   "id": "09f1282d",
   "metadata": {},
   "outputs": [],
   "source": [
    "dec"
   ]
  },
  {
   "cell_type": "code",
   "execution_count": null,
   "id": "cf1d3f78",
   "metadata": {},
   "outputs": [],
   "source": []
  },
  {
   "cell_type": "code",
   "execution_count": null,
   "id": "885e0fef",
   "metadata": {},
   "outputs": [],
   "source": [
    "# Remove all latitude and longitude features.. Plus Also remove ..  offer_gk\n",
    "\n",
    "mck = mck.drop(['driver_latitude', 'driver_longitude', 'origin_order_latitude', 'origin_order_longitude',\n",
    "                'order_gk', 'offer_gk'], axis = 1)"
   ]
  },
  {
   "cell_type": "markdown",
   "id": "58157270",
   "metadata": {},
   "source": [
    "NOrmalization "
   ]
  },
  {
   "cell_type": "code",
   "execution_count": null,
   "id": "03b3e932",
   "metadata": {},
   "outputs": [],
   "source": [
    "from scipy.stats import boxcox\n",
    "\n",
    "# REFER :: https://www.statology.org/box-cox-transformation-python/\n",
    "\n",
    "# REFER :: https://towardsdatascience.com/box-cox-transformation-explained-51d745e34203"
   ]
  },
  {
   "cell_type": "code",
   "execution_count": null,
   "id": "94fa5101",
   "metadata": {},
   "outputs": [],
   "source": [
    "\n",
    "plt.subplot(1,3,1)\n",
    "snn.distplot(mck['distance_km'], hist=False, kde=True)\n",
    "\n",
    "\n",
    "plt.subplot(1,3,2)\n",
    "snn.distplot(mck['duration_min'], hist=False, kde=True)\n",
    "\n",
    "\n",
    "plt.subplot(1,3,3)\n",
    "snn.distplot(mck['driver_origin_dist'], hist=False, kde=True)\n",
    "\n",
    "\n",
    "plt.show()\n",
    "\n"
   ]
  },
  {
   "cell_type": "code",
   "execution_count": null,
   "id": "640fe12e",
   "metadata": {
    "scrolled": true
   },
   "outputs": [],
   "source": [
    "# BoxCox Lambda test \n",
    "\n",
    "mck['distance_km'], best_lambda1 = boxcox(mck['distance_km'])\n",
    "\n",
    "mck['duration_min'], best_lambda2 = boxcox(mck['duration_min'])\n",
    "\n",
    "mck['driver_origin_dist'], best_lambda = boxcox(mck['driver_origin_dist'])"
   ]
  },
  {
   "cell_type": "code",
   "execution_count": null,
   "id": "67327b2d",
   "metadata": {},
   "outputs": [],
   "source": [
    "print('Best Lambda 1:: ', best_lambda1)\n",
    "\n",
    "print('Best Lambda 2:: ', best_lambda2)\n",
    "\n",
    "print('Best Lambda 3:: ', best_lambda3)"
   ]
  },
  {
   "cell_type": "code",
   "execution_count": null,
   "id": "fd6b59e0",
   "metadata": {
    "scrolled": false
   },
   "outputs": [],
   "source": [
    "mck.describe()"
   ]
  },
  {
   "cell_type": "markdown",
   "id": "5580eafd",
   "metadata": {},
   "source": [
    "Write the csv file"
   ]
  },
  {
   "cell_type": "code",
   "execution_count": null,
   "id": "c1c3b26a",
   "metadata": {},
   "outputs": [],
   "source": [
    "mck.to_csv('Model_Mck.csv')"
   ]
  },
  {
   "cell_type": "code",
   "execution_count": null,
   "id": "b00f6b26",
   "metadata": {},
   "outputs": [],
   "source": [
    "## Build Supervised ML model on EDA_Mck.csv"
   ]
  },
  {
   "cell_type": "code",
   "execution_count": null,
   "id": "76704217",
   "metadata": {},
   "outputs": [],
   "source": []
  }
 ],
 "metadata": {
  "kernelspec": {
   "display_name": "Python 3 (ipykernel)",
   "language": "python",
   "name": "python3"
  },
  "language_info": {
   "codemirror_mode": {
    "name": "ipython",
    "version": 3
   },
   "file_extension": ".py",
   "mimetype": "text/x-python",
   "name": "python",
   "nbconvert_exporter": "python",
   "pygments_lexer": "ipython3",
   "version": "3.9.7"
  }
 },
 "nbformat": 4,
 "nbformat_minor": 5
}
