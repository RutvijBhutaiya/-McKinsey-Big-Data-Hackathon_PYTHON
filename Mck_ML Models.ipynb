{
 "cells": [
  {
   "cell_type": "markdown",
   "id": "18bd255d",
   "metadata": {},
   "source": [
    "## Supervised ML Models  "
   ]
  },
  {
   "cell_type": "code",
   "execution_count": 15,
   "id": "effb3185",
   "metadata": {},
   "outputs": [],
   "source": [
    "import pandas as pd\n",
    "import numpy as np"
   ]
  },
  {
   "cell_type": "code",
   "execution_count": 16,
   "id": "a403a4a4",
   "metadata": {},
   "outputs": [],
   "source": [
    "mck = pd.read_csv('Model_Mck.csv')"
   ]
  },
  {
   "cell_type": "code",
   "execution_count": 17,
   "id": "45718f66",
   "metadata": {
    "scrolled": true
   },
   "outputs": [
    {
     "data": {
      "text/html": [
       "<div>\n",
       "<style scoped>\n",
       "    .dataframe tbody tr th:only-of-type {\n",
       "        vertical-align: middle;\n",
       "    }\n",
       "\n",
       "    .dataframe tbody tr th {\n",
       "        vertical-align: top;\n",
       "    }\n",
       "\n",
       "    .dataframe thead th {\n",
       "        text-align: right;\n",
       "    }\n",
       "</style>\n",
       "<table border=\"1\" class=\"dataframe\">\n",
       "  <thead>\n",
       "    <tr style=\"text-align: right;\">\n",
       "      <th></th>\n",
       "      <th>Unnamed: 0</th>\n",
       "      <th>weekday_key</th>\n",
       "      <th>hour_key</th>\n",
       "      <th>distance_km</th>\n",
       "      <th>duration_min</th>\n",
       "      <th>offer_class_group</th>\n",
       "      <th>ride_type_desc</th>\n",
       "      <th>driver_response</th>\n",
       "      <th>driver_origin_dist</th>\n",
       "    </tr>\n",
       "  </thead>\n",
       "  <tbody>\n",
       "    <tr>\n",
       "      <th>0</th>\n",
       "      <td>0</td>\n",
       "      <td>0</td>\n",
       "      <td>22</td>\n",
       "      <td>2.101701</td>\n",
       "      <td>4.379502</td>\n",
       "      <td>Economy</td>\n",
       "      <td>private</td>\n",
       "      <td>1</td>\n",
       "      <td>0.001136</td>\n",
       "    </tr>\n",
       "    <tr>\n",
       "      <th>1</th>\n",
       "      <td>1</td>\n",
       "      <td>0</td>\n",
       "      <td>19</td>\n",
       "      <td>0.291998</td>\n",
       "      <td>2.145089</td>\n",
       "      <td>Standard</td>\n",
       "      <td>private</td>\n",
       "      <td>1</td>\n",
       "      <td>-1.322208</td>\n",
       "    </tr>\n",
       "    <tr>\n",
       "      <th>2</th>\n",
       "      <td>2</td>\n",
       "      <td>1</td>\n",
       "      <td>5</td>\n",
       "      <td>4.382374</td>\n",
       "      <td>6.544562</td>\n",
       "      <td>Economy</td>\n",
       "      <td>private</td>\n",
       "      <td>0</td>\n",
       "      <td>1.289408</td>\n",
       "    </tr>\n",
       "    <tr>\n",
       "      <th>3</th>\n",
       "      <td>3</td>\n",
       "      <td>2</td>\n",
       "      <td>19</td>\n",
       "      <td>0.931903</td>\n",
       "      <td>2.116213</td>\n",
       "      <td>Economy</td>\n",
       "      <td>private</td>\n",
       "      <td>1</td>\n",
       "      <td>-0.270352</td>\n",
       "    </tr>\n",
       "    <tr>\n",
       "      <th>4</th>\n",
       "      <td>4</td>\n",
       "      <td>3</td>\n",
       "      <td>7</td>\n",
       "      <td>2.883368</td>\n",
       "      <td>3.972901</td>\n",
       "      <td>Standard</td>\n",
       "      <td>private</td>\n",
       "      <td>0</td>\n",
       "      <td>1.086685</td>\n",
       "    </tr>\n",
       "  </tbody>\n",
       "</table>\n",
       "</div>"
      ],
      "text/plain": [
       "   Unnamed: 0  weekday_key  hour_key  distance_km  duration_min  \\\n",
       "0           0            0        22     2.101701      4.379502   \n",
       "1           1            0        19     0.291998      2.145089   \n",
       "2           2            1         5     4.382374      6.544562   \n",
       "3           3            2        19     0.931903      2.116213   \n",
       "4           4            3         7     2.883368      3.972901   \n",
       "\n",
       "  offer_class_group ride_type_desc  driver_response  driver_origin_dist  \n",
       "0           Economy        private                1            0.001136  \n",
       "1          Standard        private                1           -1.322208  \n",
       "2           Economy        private                0            1.289408  \n",
       "3           Economy        private                1           -0.270352  \n",
       "4          Standard        private                0            1.086685  "
      ]
     },
     "execution_count": 17,
     "metadata": {},
     "output_type": "execute_result"
    }
   ],
   "source": [
    "mck.head()"
   ]
  },
  {
   "cell_type": "code",
   "execution_count": 18,
   "id": "0a785a15",
   "metadata": {},
   "outputs": [],
   "source": [
    "mck = mck.drop('Unnamed: 0', axis = 1)"
   ]
  },
  {
   "cell_type": "code",
   "execution_count": 19,
   "id": "526f2947",
   "metadata": {},
   "outputs": [
    {
     "name": "stdout",
     "output_type": "stream",
     "text": [
      "<class 'pandas.core.frame.DataFrame'>\n",
      "RangeIndex: 628103 entries, 0 to 628102\n",
      "Data columns (total 8 columns):\n",
      " #   Column              Non-Null Count   Dtype  \n",
      "---  ------              --------------   -----  \n",
      " 0   weekday_key         628103 non-null  int64  \n",
      " 1   hour_key            628103 non-null  int64  \n",
      " 2   distance_km         628103 non-null  float64\n",
      " 3   duration_min        628103 non-null  float64\n",
      " 4   offer_class_group   628103 non-null  object \n",
      " 5   ride_type_desc      628103 non-null  object \n",
      " 6   driver_response     628103 non-null  int64  \n",
      " 7   driver_origin_dist  628103 non-null  float64\n",
      "dtypes: float64(3), int64(3), object(2)\n",
      "memory usage: 38.3+ MB\n"
     ]
    }
   ],
   "source": [
    "mck.info()"
   ]
  },
  {
   "cell_type": "code",
   "execution_count": 20,
   "id": "845f8f73",
   "metadata": {},
   "outputs": [],
   "source": [
    "# Convert offer_class_group   & ride_type_desc  use  Lable Encoding"
   ]
  },
  {
   "cell_type": "code",
   "execution_count": 21,
   "id": "3aa58a74",
   "metadata": {},
   "outputs": [],
   "source": [
    "from sklearn import preprocessing"
   ]
  },
  {
   "cell_type": "code",
   "execution_count": 22,
   "id": "22398941",
   "metadata": {},
   "outputs": [],
   "source": [
    "# Label encoding \n",
    "\n",
    "label = preprocessing.LabelEncoder()"
   ]
  },
  {
   "cell_type": "code",
   "execution_count": 23,
   "id": "347ffed2",
   "metadata": {},
   "outputs": [
    {
     "data": {
      "text/html": [
       "<div>\n",
       "<style scoped>\n",
       "    .dataframe tbody tr th:only-of-type {\n",
       "        vertical-align: middle;\n",
       "    }\n",
       "\n",
       "    .dataframe tbody tr th {\n",
       "        vertical-align: top;\n",
       "    }\n",
       "\n",
       "    .dataframe thead th {\n",
       "        text-align: right;\n",
       "    }\n",
       "</style>\n",
       "<table border=\"1\" class=\"dataframe\">\n",
       "  <thead>\n",
       "    <tr style=\"text-align: right;\">\n",
       "      <th></th>\n",
       "      <th>weekday_key</th>\n",
       "      <th>hour_key</th>\n",
       "      <th>distance_km</th>\n",
       "      <th>duration_min</th>\n",
       "      <th>offer_class_group</th>\n",
       "      <th>ride_type_desc</th>\n",
       "      <th>driver_response</th>\n",
       "      <th>driver_origin_dist</th>\n",
       "    </tr>\n",
       "  </thead>\n",
       "  <tbody>\n",
       "    <tr>\n",
       "      <th>0</th>\n",
       "      <td>0</td>\n",
       "      <td>22</td>\n",
       "      <td>2.101701</td>\n",
       "      <td>4.379502</td>\n",
       "      <td>1</td>\n",
       "      <td>2</td>\n",
       "      <td>1</td>\n",
       "      <td>0.001136</td>\n",
       "    </tr>\n",
       "    <tr>\n",
       "      <th>1</th>\n",
       "      <td>0</td>\n",
       "      <td>19</td>\n",
       "      <td>0.291998</td>\n",
       "      <td>2.145089</td>\n",
       "      <td>4</td>\n",
       "      <td>2</td>\n",
       "      <td>1</td>\n",
       "      <td>-1.322208</td>\n",
       "    </tr>\n",
       "    <tr>\n",
       "      <th>2</th>\n",
       "      <td>1</td>\n",
       "      <td>5</td>\n",
       "      <td>4.382374</td>\n",
       "      <td>6.544562</td>\n",
       "      <td>1</td>\n",
       "      <td>2</td>\n",
       "      <td>0</td>\n",
       "      <td>1.289408</td>\n",
       "    </tr>\n",
       "    <tr>\n",
       "      <th>3</th>\n",
       "      <td>2</td>\n",
       "      <td>19</td>\n",
       "      <td>0.931903</td>\n",
       "      <td>2.116213</td>\n",
       "      <td>1</td>\n",
       "      <td>2</td>\n",
       "      <td>1</td>\n",
       "      <td>-0.270352</td>\n",
       "    </tr>\n",
       "    <tr>\n",
       "      <th>4</th>\n",
       "      <td>3</td>\n",
       "      <td>7</td>\n",
       "      <td>2.883368</td>\n",
       "      <td>3.972901</td>\n",
       "      <td>4</td>\n",
       "      <td>2</td>\n",
       "      <td>0</td>\n",
       "      <td>1.086685</td>\n",
       "    </tr>\n",
       "  </tbody>\n",
       "</table>\n",
       "</div>"
      ],
      "text/plain": [
       "   weekday_key  hour_key  distance_km  duration_min  offer_class_group  \\\n",
       "0            0        22     2.101701      4.379502                  1   \n",
       "1            0        19     0.291998      2.145089                  4   \n",
       "2            1         5     4.382374      6.544562                  1   \n",
       "3            2        19     0.931903      2.116213                  1   \n",
       "4            3         7     2.883368      3.972901                  4   \n",
       "\n",
       "   ride_type_desc  driver_response  driver_origin_dist  \n",
       "0               2                1            0.001136  \n",
       "1               2                1           -1.322208  \n",
       "2               2                0            1.289408  \n",
       "3               2                1           -0.270352  \n",
       "4               2                0            1.086685  "
      ]
     },
     "execution_count": 23,
     "metadata": {},
     "output_type": "execute_result"
    }
   ],
   "source": [
    "# For variables offer_class_group   & ride_type_desc\n",
    "\n",
    "coloums = ['offer_class_group', 'ride_type_desc']\n",
    "\n",
    "mck[coloums] = mck[coloums].apply(label.fit_transform)\n",
    "\n",
    "#mck['offer_class_group'] = label.fit_transform(mck['offer_class_group'])\n",
    "\n",
    "mck.head()"
   ]
  },
  {
   "cell_type": "markdown",
   "id": "9da77b8b",
   "metadata": {},
   "source": [
    "create  Train and test datasets"
   ]
  },
  {
   "cell_type": "code",
   "execution_count": 24,
   "id": "2265929b",
   "metadata": {},
   "outputs": [],
   "source": [
    "from sklearn.model_selection import train_test_split"
   ]
  },
  {
   "cell_type": "code",
   "execution_count": 25,
   "id": "658cac05",
   "metadata": {},
   "outputs": [],
   "source": [
    "y = mck.driver_response   # Dependent Variable\n",
    "x = mck.drop('driver_response', axis = 1)     # Independent Variables [Dropped driver_response]"
   ]
  },
  {
   "cell_type": "code",
   "execution_count": 26,
   "id": "a4ee1276",
   "metadata": {},
   "outputs": [
    {
     "data": {
      "text/html": [
       "<div>\n",
       "<style scoped>\n",
       "    .dataframe tbody tr th:only-of-type {\n",
       "        vertical-align: middle;\n",
       "    }\n",
       "\n",
       "    .dataframe tbody tr th {\n",
       "        vertical-align: top;\n",
       "    }\n",
       "\n",
       "    .dataframe thead th {\n",
       "        text-align: right;\n",
       "    }\n",
       "</style>\n",
       "<table border=\"1\" class=\"dataframe\">\n",
       "  <thead>\n",
       "    <tr style=\"text-align: right;\">\n",
       "      <th></th>\n",
       "      <th>weekday_key</th>\n",
       "      <th>hour_key</th>\n",
       "      <th>distance_km</th>\n",
       "      <th>duration_min</th>\n",
       "      <th>offer_class_group</th>\n",
       "      <th>ride_type_desc</th>\n",
       "      <th>driver_origin_dist</th>\n",
       "    </tr>\n",
       "  </thead>\n",
       "  <tbody>\n",
       "    <tr>\n",
       "      <th>349923</th>\n",
       "      <td>1</td>\n",
       "      <td>19</td>\n",
       "      <td>2.792010</td>\n",
       "      <td>5.629253</td>\n",
       "      <td>4</td>\n",
       "      <td>2</td>\n",
       "      <td>0.095607</td>\n",
       "    </tr>\n",
       "    <tr>\n",
       "      <th>121710</th>\n",
       "      <td>3</td>\n",
       "      <td>17</td>\n",
       "      <td>0.125871</td>\n",
       "      <td>1.722339</td>\n",
       "      <td>1</td>\n",
       "      <td>2</td>\n",
       "      <td>-0.115162</td>\n",
       "    </tr>\n",
       "    <tr>\n",
       "      <th>578964</th>\n",
       "      <td>5</td>\n",
       "      <td>11</td>\n",
       "      <td>0.834067</td>\n",
       "      <td>2.505327</td>\n",
       "      <td>1</td>\n",
       "      <td>2</td>\n",
       "      <td>0.274492</td>\n",
       "    </tr>\n",
       "    <tr>\n",
       "      <th>278614</th>\n",
       "      <td>0</td>\n",
       "      <td>9</td>\n",
       "      <td>2.455595</td>\n",
       "      <td>4.997278</td>\n",
       "      <td>4</td>\n",
       "      <td>2</td>\n",
       "      <td>-0.788656</td>\n",
       "    </tr>\n",
       "    <tr>\n",
       "      <th>269793</th>\n",
       "      <td>3</td>\n",
       "      <td>21</td>\n",
       "      <td>3.191803</td>\n",
       "      <td>5.833321</td>\n",
       "      <td>1</td>\n",
       "      <td>2</td>\n",
       "      <td>-0.735492</td>\n",
       "    </tr>\n",
       "  </tbody>\n",
       "</table>\n",
       "</div>"
      ],
      "text/plain": [
       "        weekday_key  hour_key  distance_km  duration_min  offer_class_group  \\\n",
       "349923            1        19     2.792010      5.629253                  4   \n",
       "121710            3        17     0.125871      1.722339                  1   \n",
       "578964            5        11     0.834067      2.505327                  1   \n",
       "278614            0         9     2.455595      4.997278                  4   \n",
       "269793            3        21     3.191803      5.833321                  1   \n",
       "\n",
       "        ride_type_desc  driver_origin_dist  \n",
       "349923               2            0.095607  \n",
       "121710               2           -0.115162  \n",
       "578964               2            0.274492  \n",
       "278614               2           -0.788656  \n",
       "269793               2           -0.735492  "
      ]
     },
     "execution_count": 26,
     "metadata": {},
     "output_type": "execute_result"
    }
   ],
   "source": [
    "# Split dataset into 70:30 to Train:Test\n",
    "\n",
    "x_train, x_test, y_train, y_test = train_test_split(x, y, test_size= 0.2)\n",
    "\n",
    "x_train.head()"
   ]
  },
  {
   "cell_type": "code",
   "execution_count": 27,
   "id": "498f0722",
   "metadata": {
    "scrolled": true
   },
   "outputs": [
    {
     "data": {
      "text/plain": [
       "349923    1\n",
       "121710    1\n",
       "578964    1\n",
       "278614    0\n",
       "269793    0\n",
       "Name: driver_response, dtype: int64"
      ]
     },
     "execution_count": 27,
     "metadata": {},
     "output_type": "execute_result"
    }
   ],
   "source": [
    "y_train.head()"
   ]
  },
  {
   "cell_type": "code",
   "execution_count": 28,
   "id": "f3ac8862",
   "metadata": {},
   "outputs": [
    {
     "name": "stdout",
     "output_type": "stream",
     "text": [
      "(502482, 7) (125621, 7) (502482,) (125621,)\n"
     ]
    }
   ],
   "source": [
    "print(x_train.shape, x_test.shape, y_train.shape, y_test.shape)"
   ]
  },
  {
   "cell_type": "markdown",
   "id": "5dd541bc",
   "metadata": {},
   "source": [
    "## Logistic Regression - ML Model"
   ]
  },
  {
   "cell_type": "code",
   "execution_count": 36,
   "id": "d52cdea2",
   "metadata": {},
   "outputs": [],
   "source": [
    "from sklearn.linear_model import LogisticRegression"
   ]
  },
  {
   "cell_type": "code",
   "execution_count": 47,
   "id": "6104a4f5",
   "metadata": {},
   "outputs": [
    {
     "data": {
      "text/plain": [
       "LogisticRegression()"
      ]
     },
     "execution_count": 47,
     "metadata": {},
     "output_type": "execute_result"
    }
   ],
   "source": [
    "model1 = LogisticRegression()\n",
    "\n",
    "model1.fit(x_train, y_train)"
   ]
  },
  {
   "cell_type": "code",
   "execution_count": 48,
   "id": "30a239aa",
   "metadata": {},
   "outputs": [],
   "source": [
    "# Predict the results for Logistic Regression \n",
    "\n",
    "y_pred = model1.predict(x_test)"
   ]
  },
  {
   "cell_type": "code",
   "execution_count": 49,
   "id": "7efa5044",
   "metadata": {},
   "outputs": [],
   "source": [
    "# Model Evaluation\n",
    "\n",
    "from sklearn import metrics as mtr"
   ]
  },
  {
   "cell_type": "code",
   "execution_count": 50,
   "id": "24e7d242",
   "metadata": {},
   "outputs": [
    {
     "name": "stdout",
     "output_type": "stream",
     "text": [
      "Confusion Matrix: [[  532 33717]\n",
      " [  507 90865]]\n",
      "Accuracy: 0.7275614745942159\n",
      "Precision 0.7293589764171389\n",
      "Recall 0.9944512542135446\n",
      "F1 Score 0.8415218055697047\n",
      "AUC ROC 0.5049922772279438\n"
     ]
    }
   ],
   "source": [
    "# Confusion Matrix\n",
    "\n",
    "print('Confusion Matrix:' ,mtr.confusion_matrix(y_test, y_pred))\n",
    "\n",
    "print('Accuracy:' ,mtr.accuracy_score(y_test, y_pred))\n",
    "\n",
    "print('Precision' ,mtr.precision_score(y_test, y_pred))\n",
    "\n",
    "print('Recall' ,mtr.recall_score(y_test, y_pred))\n",
    "\n",
    "print('F1 Score' ,mtr.f1_score(y_test, y_pred))\n",
    "\n",
    "print('AUC ROC' ,mtr.roc_auc_score(y_test, y_pred))"
   ]
  },
  {
   "cell_type": "code",
   "execution_count": null,
   "id": "e54bd2ed",
   "metadata": {},
   "outputs": [],
   "source": [
    "# AUC ROC Curve\n",
    "\n",
    "from sklearn.metrics import roc_curve"
   ]
  },
  {
   "cell_type": "code",
   "execution_count": null,
   "id": "e9ed87d3",
   "metadata": {},
   "outputs": [],
   "source": [
    "fpr, tpr, threshold = roc_curve()"
   ]
  },
  {
   "cell_type": "markdown",
   "id": "31390b50",
   "metadata": {},
   "source": [
    "## Random Forest Classification  "
   ]
  },
  {
   "cell_type": "code",
   "execution_count": 29,
   "id": "b2b28dae",
   "metadata": {},
   "outputs": [
    {
     "name": "stdout",
     "output_type": "stream",
     "text": [
      "(502482, 7) (125621, 7) (502482,) (125621,)\n"
     ]
    }
   ],
   "source": [
    "print(x_train.shape, x_test.shape, y_train.shape, y_test.shape)"
   ]
  },
  {
   "cell_type": "code",
   "execution_count": 30,
   "id": "d48c9a1e",
   "metadata": {},
   "outputs": [],
   "source": [
    "from sklearn.ensemble import RandomForestClassifier"
   ]
  },
  {
   "cell_type": "code",
   "execution_count": 43,
   "id": "25bf9511",
   "metadata": {},
   "outputs": [
    {
     "data": {
      "text/plain": [
       "RandomForestClassifier(max_depth=5, n_estimators=200, random_state=1)"
      ]
     },
     "execution_count": 43,
     "metadata": {},
     "output_type": "execute_result"
    }
   ],
   "source": [
    "model2 = RandomForestClassifier(n_estimators = 200, criterion = 'gini', random_state = 1, max_depth = 5)\n",
    "model2.fit(x_train, y_train)"
   ]
  },
  {
   "cell_type": "code",
   "execution_count": 44,
   "id": "1776e8a3",
   "metadata": {},
   "outputs": [],
   "source": [
    "# Predict the results for Random Forest\n",
    "\n",
    "y_pred_RF = model2.predict(x_test)"
   ]
  },
  {
   "cell_type": "code",
   "execution_count": 45,
   "id": "bf9a24fb",
   "metadata": {},
   "outputs": [],
   "source": [
    "# Model Evaluation\n",
    "\n",
    "from sklearn import metrics as mtr"
   ]
  },
  {
   "cell_type": "code",
   "execution_count": 46,
   "id": "7448ab5c",
   "metadata": {},
   "outputs": [
    {
     "name": "stdout",
     "output_type": "stream",
     "text": [
      "Confusion Matrix: [[ 6113 28136]\n",
      " [ 2755 88617]]\n",
      "Accuracy: 0.754093662683787\n",
      "Precision 0.7590126163781659\n",
      "Recall 0.9698485312787287\n",
      "F1 Score 0.8515747747747748\n",
      "AUC ROC 0.5741677472008698\n"
     ]
    }
   ],
   "source": [
    "print('Confusion Matrix:' ,mtr.confusion_matrix(y_test, y_pred_RF))\n",
    "\n",
    "print('Accuracy:' ,mtr.accuracy_score(y_test, y_pred_RF))\n",
    "\n",
    "print('Precision' ,mtr.precision_score(y_test, y_pred_RF))\n",
    "\n",
    "print('Recall' ,mtr.recall_score(y_test, y_pred_RF))\n",
    "\n",
    "print('F1 Score' ,mtr.f1_score(y_test, y_pred_RF))\n",
    "\n",
    "print('AUC ROC' ,mtr.roc_auc_score(y_test, y_pred_RF))"
   ]
  },
  {
   "cell_type": "markdown",
   "id": "305831be",
   "metadata": {},
   "source": [
    "## Feature Selection in RF Algo "
   ]
  },
  {
   "cell_type": "code",
   "execution_count": 51,
   "id": "e4923fcd",
   "metadata": {},
   "outputs": [],
   "source": [
    "import pandas as pd"
   ]
  },
  {
   "cell_type": "code",
   "execution_count": 53,
   "id": "d8af02e5",
   "metadata": {
    "scrolled": true
   },
   "outputs": [],
   "source": [
    "feature_imp = pd.Series(model2.feature_importances_, index = x.columns).sort_values(ascending = False)"
   ]
  },
  {
   "cell_type": "code",
   "execution_count": 56,
   "id": "3b5ce828",
   "metadata": {},
   "outputs": [
    {
     "data": {
      "image/png": "[encoded data removed]",
      "text/plain": [
       "<Figure size 432x288 with 1 Axes>"
      ]
     },
     "metadata": {
      "needs_background": "light"
     },
     "output_type": "display_data"
    }
   ],
   "source": [
    "# Show Visulizatioin in Seaborn\n",
    "\n",
    "import matplotlib.pyplot as plt\n",
    "import seaborn as snn\n",
    "\n",
    "snn.barplot(x = feature_imp, y = feature_imp.index)\n",
    "plt.ylabel('Features')\n",
    "plt.xlabel('Importance of Features')\n",
    "plt.title('Feature Selection')\n",
    "plt.show()"
   ]
  },
  {
   "cell_type": "code",
   "execution_count": 57,
   "id": "7259fd47",
   "metadata": {},
   "outputs": [
    {
     "data": {
      "text/plain": [
       "distance_km           0.413297\n",
       "duration_min          0.206947\n",
       "driver_origin_dist    0.165157\n",
       "hour_key              0.111935\n",
       "offer_class_group     0.091406\n",
       "weekday_key           0.011235\n",
       "ride_type_desc        0.000022\n",
       "dtype: float64"
      ]
     },
     "execution_count": 57,
     "metadata": {},
     "output_type": "execute_result"
    }
   ],
   "source": [
    "feature_imp"
   ]
  },
  {
   "cell_type": "markdown",
   "id": "f26b763f",
   "metadata": {},
   "source": [
    "Feature Selection and rebuilding Random Forest Model.."
   ]
  },
  {
   "cell_type": "code",
   "execution_count": 65,
   "id": "fbf1eab4",
   "metadata": {},
   "outputs": [
    {
     "data": {
      "text/plain": [
       "SelectFromModel(estimator=RandomForestClassifier(max_depth=5, n_estimators=200,\n",
       "                                                 random_state=1),\n",
       "                threshold=0.2)"
      ]
     },
     "execution_count": 65,
     "metadata": {},
     "output_type": "execute_result"
    }
   ],
   "source": [
    "from sklearn.feature_selection import SelectFromModel\n",
    "\n",
    "feature_sel = SelectFromModel(model2, threshold=0.2)\n",
    "feature_sel.fit(x_train, y_train)"
   ]
  },
  {
   "cell_type": "code",
   "execution_count": 59,
   "id": "2b626dab",
   "metadata": {},
   "outputs": [],
   "source": [
    "x_imp_train = feature_sel.transform(x_train)\n",
    "x_imp_test = feature_sel.transform(x_test)"
   ]
  },
  {
   "cell_type": "code",
   "execution_count": 67,
   "id": "137e53f0",
   "metadata": {},
   "outputs": [
    {
     "data": {
      "text/plain": [
       "(502482, 4)"
      ]
     },
     "execution_count": 67,
     "metadata": {},
     "output_type": "execute_result"
    }
   ],
   "source": [
    "x_imp_train.shape"
   ]
  },
  {
   "cell_type": "code",
   "execution_count": 68,
   "id": "6e2685e2",
   "metadata": {},
   "outputs": [
    {
     "data": {
      "text/plain": [
       "RandomForestClassifier(max_depth=5, n_estimators=200, random_state=1)"
      ]
     },
     "execution_count": 68,
     "metadata": {},
     "output_type": "execute_result"
    }
   ],
   "source": [
    "model2_imp_feature = RandomForestClassifier(n_estimators = 200, criterion = 'gini', random_state = 1, max_depth = 5)\n",
    "model2_imp_feature.fit(x_imp_train, y_train)"
   ]
  },
  {
   "cell_type": "code",
   "execution_count": 69,
   "id": "85a23051",
   "metadata": {},
   "outputs": [],
   "source": [
    "y_pred_RF_imp = model2.predict(x_test)"
   ]
  },
  {
   "cell_type": "code",
   "execution_count": 70,
   "id": "90482c30",
   "metadata": {},
   "outputs": [
    {
     "name": "stdout",
     "output_type": "stream",
     "text": [
      "Confusion Matrix: [[ 6113 28136]\n",
      " [ 2755 88617]]\n",
      "Accuracy: 0.754093662683787\n",
      "Precision 0.7590126163781659\n",
      "Recall 0.9698485312787287\n",
      "F1 Score 0.8515747747747748\n",
      "AUC ROC 0.5741677472008698\n"
     ]
    }
   ],
   "source": [
    "print('Confusion Matrix:' ,mtr.confusion_matrix(y_test, y_pred_RF_imp))\n",
    "\n",
    "print('Accuracy:' ,mtr.accuracy_score(y_test, y_pred_RF_imp))\n",
    "\n",
    "print('Precision' ,mtr.precision_score(y_test, y_pred_RF_imp))\n",
    "\n",
    "print('Recall' ,mtr.recall_score(y_test, y_pred_RF_imp))\n",
    "\n",
    "print('F1 Score' ,mtr.f1_score(y_test, y_pred_RF_imp))\n",
    "\n",
    "print('AUC ROC' ,mtr.roc_auc_score(y_test, y_pred_RF_imp))"
   ]
  },
  {
   "cell_type": "code",
   "execution_count": null,
   "id": "f3c968f5",
   "metadata": {},
   "outputs": [],
   "source": []
  }
 ],
 "metadata": {
  "kernelspec": {
   "display_name": "Python 3 (ipykernel)",
   "language": "python",
   "name": "python3"
  },
  "language_info": {
   "codemirror_mode": {
    "name": "ipython",
    "version": 3
   },
   "file_extension": ".py",
   "mimetype": "text/x-python",
   "name": "python",
   "nbconvert_exporter": "python",
   "pygments_lexer": "ipython3",
   "version": "3.9.7"
  }
 },
 "nbformat": 4,
 "nbformat_minor": 5
}
